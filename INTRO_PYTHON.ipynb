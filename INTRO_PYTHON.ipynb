{
 "cells": [
  {
   "cell_type": "code",
   "execution_count": 1,
   "id": "e6a3def9",
   "metadata": {},
   "outputs": [
    {
     "name": "stdout",
     "output_type": "stream",
     "text": [
      "The Zen of Python, by Tim Peters\n",
      "\n",
      "Beautiful is better than ugly.\n",
      "Explicit is better than implicit.\n",
      "Simple is better than complex.\n",
      "Complex is better than complicated.\n",
      "Flat is better than nested.\n",
      "Sparse is better than dense.\n",
      "Readability counts.\n",
      "Special cases aren't special enough to break the rules.\n",
      "Although practicality beats purity.\n",
      "Errors should never pass silently.\n",
      "Unless explicitly silenced.\n",
      "In the face of ambiguity, refuse the temptation to guess.\n",
      "There should be one-- and preferably only one --obvious way to do it.\n",
      "Although that way may not be obvious at first unless you're Dutch.\n",
      "Now is better than never.\n",
      "Although never is often better than *right* now.\n",
      "If the implementation is hard to explain, it's a bad idea.\n",
      "If the implementation is easy to explain, it may be a good idea.\n",
      "Namespaces are one honking great idea -- let's do more of those!\n"
     ]
    }
   ],
   "source": [
    "import this"
   ]
  },
  {
   "cell_type": "code",
   "execution_count": 6,
   "id": "7d827ed5",
   "metadata": {},
   "outputs": [
    {
     "data": {
      "text/plain": [
       "4"
      ]
     },
     "execution_count": 6,
     "metadata": {},
     "output_type": "execute_result"
    }
   ],
   "source": [
    "2*2"
   ]
  },
  {
   "cell_type": "code",
   "execution_count": 7,
   "id": "da884e16",
   "metadata": {},
   "outputs": [
    {
     "data": {
      "text/plain": [
       "4"
      ]
     },
     "execution_count": 7,
     "metadata": {},
     "output_type": "execute_result"
    }
   ],
   "source": [
    "2**2"
   ]
  },
  {
   "cell_type": "code",
   "execution_count": 14,
   "id": "2aec7277",
   "metadata": {},
   "outputs": [
    {
     "name": "stdout",
     "output_type": "stream",
     "text": [
      "The value for x is 2\n"
     ]
    }
   ],
   "source": [
    "x = 2\n",
    "print(f'The value for x is {x}')"
   ]
  },
  {
   "cell_type": "code",
   "execution_count": 15,
   "id": "212d6a68",
   "metadata": {},
   "outputs": [
    {
     "data": {
      "text/plain": [
       "int"
      ]
     },
     "execution_count": 15,
     "metadata": {},
     "output_type": "execute_result"
    }
   ],
   "source": [
    "type(x)"
   ]
  },
  {
   "cell_type": "code",
   "execution_count": 16,
   "id": "b40b00d7",
   "metadata": {},
   "outputs": [],
   "source": [
    "x2 = float(x)"
   ]
  },
  {
   "cell_type": "code",
   "execution_count": 17,
   "id": "c5b0251d",
   "metadata": {},
   "outputs": [
    {
     "data": {
      "text/plain": [
       "2.0"
      ]
     },
     "execution_count": 17,
     "metadata": {},
     "output_type": "execute_result"
    }
   ],
   "source": [
    "x2"
   ]
  },
  {
   "cell_type": "code",
   "execution_count": 18,
   "id": "547b44c9",
   "metadata": {},
   "outputs": [
    {
     "data": {
      "text/plain": [
       "float"
      ]
     },
     "execution_count": 18,
     "metadata": {},
     "output_type": "execute_result"
    }
   ],
   "source": [
    "type(x2)"
   ]
  },
  {
   "cell_type": "code",
   "execution_count": 19,
   "id": "41fe15e1",
   "metadata": {},
   "outputs": [],
   "source": [
    "x3 = str(x2)"
   ]
  },
  {
   "cell_type": "code",
   "execution_count": 20,
   "id": "71e136a5",
   "metadata": {},
   "outputs": [
    {
     "data": {
      "text/plain": [
       "'2.0'"
      ]
     },
     "execution_count": 20,
     "metadata": {},
     "output_type": "execute_result"
    }
   ],
   "source": [
    "x3"
   ]
  },
  {
   "cell_type": "code",
   "execution_count": 24,
   "id": "9e50f225",
   "metadata": {},
   "outputs": [],
   "source": [
    "x4 = float(x3)"
   ]
  },
  {
   "cell_type": "code",
   "execution_count": 25,
   "id": "ea53adb3",
   "metadata": {},
   "outputs": [
    {
     "data": {
      "text/plain": [
       "2.0"
      ]
     },
     "execution_count": 25,
     "metadata": {},
     "output_type": "execute_result"
    }
   ],
   "source": [
    "x4"
   ]
  },
  {
   "cell_type": "code",
   "execution_count": 26,
   "id": "edeab4a4",
   "metadata": {},
   "outputs": [],
   "source": [
    "x5 = int(x4)"
   ]
  },
  {
   "cell_type": "code",
   "execution_count": 27,
   "id": "5bb72fa2",
   "metadata": {},
   "outputs": [
    {
     "data": {
      "text/plain": [
       "2"
      ]
     },
     "execution_count": 27,
     "metadata": {},
     "output_type": "execute_result"
    }
   ],
   "source": [
    "x5"
   ]
  },
  {
   "cell_type": "code",
   "execution_count": 28,
   "id": "acc664e5",
   "metadata": {},
   "outputs": [],
   "source": [
    "mylist = []"
   ]
  },
  {
   "cell_type": "code",
   "execution_count": 29,
   "id": "e49e5b4f",
   "metadata": {},
   "outputs": [
    {
     "data": {
      "text/plain": [
       "[]"
      ]
     },
     "execution_count": 29,
     "metadata": {},
     "output_type": "execute_result"
    }
   ],
   "source": [
    "mylist"
   ]
  },
  {
   "cell_type": "code",
   "execution_count": 30,
   "id": "897584a1",
   "metadata": {},
   "outputs": [
    {
     "ename": "TypeError",
     "evalue": "'builtin_function_or_method' object is not subscriptable",
     "output_type": "error",
     "traceback": [
      "\u001b[1;31m---------------------------------------------------------------------------\u001b[0m",
      "\u001b[1;31mTypeError\u001b[0m                                 Traceback (most recent call last)",
      "Cell \u001b[1;32mIn[30], line 1\u001b[0m\n\u001b[1;32m----> 1\u001b[0m mylist\u001b[38;5;241m.\u001b[39mappend[\u001b[38;5;124m\"\u001b[39m\u001b[38;5;124mDave\u001b[39m\u001b[38;5;124m\"\u001b[39m]\n",
      "\u001b[1;31mTypeError\u001b[0m: 'builtin_function_or_method' object is not subscriptable"
     ]
    }
   ],
   "source": []
  },
  {
   "cell_type": "code",
   "execution_count": 3,
   "id": "b8dc4dd7",
   "metadata": {},
   "outputs": [
    {
     "data": {
      "text/plain": [
       "[1, 2, 3, 4, 5, 6, 7, 8, 9, 10, 11, 12]"
      ]
     },
     "execution_count": 3,
     "metadata": {},
     "output_type": "execute_result"
    }
   ],
   "source": [
    "list = [1,2,3,4,5,6]\n",
    "list2 = [7,8,9,10,11,12]\n",
    "list3 = list +list2\n",
    "list3"
   ]
  },
  {
   "cell_type": "code",
   "execution_count": 4,
   "id": "3321ac55",
   "metadata": {},
   "outputs": [],
   "source": [
    "list[-1] = \"David\""
   ]
  },
  {
   "cell_type": "code",
   "execution_count": 5,
   "id": "35af390b",
   "metadata": {},
   "outputs": [
    {
     "data": {
      "text/plain": [
       "[1, 2, 3, 4, 5, 'David']"
      ]
     },
     "execution_count": 5,
     "metadata": {},
     "output_type": "execute_result"
    }
   ],
   "source": [
    "list"
   ]
  },
  {
   "cell_type": "code",
   "execution_count": 8,
   "id": "fe167348",
   "metadata": {},
   "outputs": [],
   "source": [
    "list.append(\"David\")"
   ]
  },
  {
   "cell_type": "code",
   "execution_count": 9,
   "id": "e87ec1f0",
   "metadata": {},
   "outputs": [
    {
     "data": {
      "text/plain": [
       "[1, 2, 3, 4, 5, 'David', 'David']"
      ]
     },
     "execution_count": 9,
     "metadata": {},
     "output_type": "execute_result"
    }
   ],
   "source": [
    "list"
   ]
  },
  {
   "cell_type": "code",
   "execution_count": 10,
   "id": "4c7034b7",
   "metadata": {},
   "outputs": [],
   "source": [
    "del list[-1]"
   ]
  },
  {
   "cell_type": "code",
   "execution_count": 11,
   "id": "515734d6",
   "metadata": {},
   "outputs": [
    {
     "data": {
      "text/plain": [
       "[1, 2, 3, 4, 5, 'David']"
      ]
     },
     "execution_count": 11,
     "metadata": {},
     "output_type": "execute_result"
    }
   ],
   "source": [
    "list"
   ]
  },
  {
   "cell_type": "code",
   "execution_count": 36,
   "id": "9dff0870",
   "metadata": {},
   "outputs": [],
   "source": [
    "def dd(latdegree, latminute, latsecond, latdirection, londegree, lonminute, lonsecond, londirection):\n",
    "        latdd  = latdirection * (latdegree + (latminute + latsecond/60.)/60.)\n",
    "        londd  = londirection * (londegree + (lonminute + lonsecond/60.)/60.)\n",
    "        return latdd, londd"
   ]
  },
  {
   "cell_type": "code",
   "execution_count": 15,
   "id": "a9e2281c",
   "metadata": {},
   "outputs": [
    {
     "name": "stdout",
     "output_type": "stream",
     "text": [
      "enter the latitude:23\n",
      "enter the longitude34\n",
      "23\n",
      "34\n"
     ]
    }
   ],
   "source": [
    " return direction * (degree + (minute + second/60.)/60.)\n",
    "\n",
    "convert()"
   ]
  },
  {
   "cell_type": "code",
   "execution_count": 38,
   "id": "ff212216",
   "metadata": {},
   "outputs": [
    {
     "data": {
      "text/plain": [
       "(42.21698888888889, -71.11949166666666)"
      ]
     },
     "execution_count": 38,
     "metadata": {},
     "output_type": "execute_result"
    }
   ],
   "source": [
    "dd(42, 13, 1.16, 1, 71, 7, 10.17, -1)"
   ]
  },
  {
   "cell_type": "code",
   "execution_count": 29,
   "id": "0fd291cb",
   "metadata": {},
   "outputs": [
    {
     "data": {
      "text/plain": [
       "-71.11789722222223"
      ]
     },
     "execution_count": 29,
     "metadata": {},
     "output_type": "execute_result"
    }
   ],
   "source": [
    "dd(71, 7, 4.43, -1)"
   ]
  },
  {
   "cell_type": "code",
   "execution_count": 1,
   "id": "385d2d30",
   "metadata": {},
   "outputs": [],
   "source": [
    "state = ['CT', 'RI', 'MA', 'VT', 'NH', 'ME']"
   ]
  },
  {
   "cell_type": "code",
   "execution_count": 2,
   "id": "f8ee2116",
   "metadata": {},
   "outputs": [],
   "source": [
    "Mountain = ['Frissell', 'Jerimoth Hill', 'Greylock', 'Mansfield', 'Washington', 'Katahdin']"
   ]
  },
  {
   "cell_type": "code",
   "execution_count": 4,
   "id": "5f72c18a",
   "metadata": {},
   "outputs": [],
   "source": [
    "mtdict = dict(zip(state, Mountain))"
   ]
  },
  {
   "cell_type": "code",
   "execution_count": 5,
   "id": "71d3d336",
   "metadata": {},
   "outputs": [
    {
     "data": {
      "text/plain": [
       "'Frissell'"
      ]
     },
     "execution_count": 5,
     "metadata": {},
     "output_type": "execute_result"
    }
   ],
   "source": [
    "mtdict[\"CT\"]"
   ]
  },
  {
   "cell_type": "code",
   "execution_count": 6,
   "id": "a085ab9b",
   "metadata": {},
   "outputs": [],
   "source": [
    "mtdict2 = {'name': ['Kearsarge', 'Sunapee', 'Ragged', 'Belknap'], 'elevation':[2937, 2610, 2200,2765]}"
   ]
  },
  {
   "cell_type": "code",
   "execution_count": 10,
   "id": "7f34275e",
   "metadata": {},
   "outputs": [
    {
     "data": {
      "text/plain": [
       "'Belknap'"
      ]
     },
     "execution_count": 10,
     "metadata": {},
     "output_type": "execute_result"
    }
   ],
   "source": [
    "mtdict2[\"name\"][-1]"
   ]
  },
  {
   "cell_type": "code",
   "execution_count": 26,
   "id": "a5f39196",
   "metadata": {},
   "outputs": [],
   "source": [
    "def fromcelcius():\n",
    "    usertemp = (input(\"Enter the temp you want converted to degrees fahrenheit: \"))\n",
    "    temp = float(usertemp)\n",
    "    print(type(temp))\n",
    "    tempf = ((temp *1.8) + 32) \n",
    "    return tempf"
   ]
  },
  {
   "cell_type": "code",
   "execution_count": 27,
   "id": "a7282c2a",
   "metadata": {},
   "outputs": [
    {
     "name": "stdout",
     "output_type": "stream",
     "text": [
      "Enter the temp you want converted to degrees fahrenheit: 0\n",
      "<class 'float'>\n"
     ]
    },
    {
     "data": {
      "text/plain": [
       "32.0"
      ]
     },
     "execution_count": 27,
     "metadata": {},
     "output_type": "execute_result"
    }
   ],
   "source": [
    "fromcelcius()"
   ]
  },
  {
   "cell_type": "code",
   "execution_count": 28,
   "id": "9d8e7853",
   "metadata": {},
   "outputs": [
    {
     "ename": "NameError",
     "evalue": "name 'tempf' is not defined",
     "output_type": "error",
     "traceback": [
      "\u001b[1;31m---------------------------------------------------------------------------\u001b[0m",
      "\u001b[1;31mNameError\u001b[0m                                 Traceback (most recent call last)",
      "Cell \u001b[1;32mIn[28], line 1\u001b[0m\n\u001b[1;32m----> 1\u001b[0m tempf\n",
      "\u001b[1;31mNameError\u001b[0m: name 'tempf' is not defined"
     ]
    }
   ],
   "source": []
  },
  {
   "cell_type": "code",
   "execution_count": null,
   "id": "b895e465",
   "metadata": {},
   "outputs": [],
   "source": []
  }
 ],
 "metadata": {
  "kernelspec": {
   "display_name": "Python 3 (ipykernel)",
   "language": "python",
   "name": "python3"
  },
  "language_info": {
   "codemirror_mode": {
    "name": "ipython",
    "version": 3
   },
   "file_extension": ".py",
   "mimetype": "text/x-python",
   "name": "python",
   "nbconvert_exporter": "python",
   "pygments_lexer": "ipython3",
   "version": "3.11.4"
  }
 },
 "nbformat": 4,
 "nbformat_minor": 5
}
